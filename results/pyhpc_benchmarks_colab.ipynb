{
  "cells": [
    {
      "cell_type": "markdown",
      "metadata": {
        "id": "A_5C1IvdfxkF"
      },
      "source": [
        "#pyhpc-benchmarks @ Google Colab\n",
        "\n",
        "To run all benchmarks, you need to switch the runtime type to match the corresponding section (CPU, TPU, GPU)."
      ]
    },
    {
      "cell_type": "code",
      "execution_count": null,
      "metadata": {
        "id": "TTViNK-9OfRJ"
      },
      "outputs": [],
      "source": [
        "!rm -rf pyhpc-benchmarks; git clone https://github.com/dionhaefner/pyhpc-benchmarks.git"
      ]
    },
    {
      "cell_type": "code",
      "execution_count": null,
      "metadata": {
        "id": "Eyc45XkjQB1X"
      },
      "outputs": [],
      "source": [
        "%cd pyhpc-benchmarks"
      ]
    },
    {
      "cell_type": "code",
      "execution_count": null,
      "metadata": {
        "id": "RbM7XH04MwFA"
      },
      "outputs": [],
      "source": [
        "# check CPU model\n",
        "!lscpu |grep 'Model name'"
      ]
    },
    {
      "cell_type": "markdown",
      "metadata": {
        "id": "cK3jm6V_P4pB"
      },
      "source": [
        "## CPU"
      ]
    },
    {
      "cell_type": "code",
      "execution_count": null,
      "metadata": {
        "id": "exG5HvsIQtyE"
      },
      "outputs": [],
      "source": [
        "!pip install -U -q numba aesara"
      ]
    },
    {
      "cell_type": "code",
      "execution_count": null,
      "metadata": {
        "id": "tD19gJ_-QAiZ"
      },
      "outputs": [],
      "source": [
        "!taskset -c 0 python run.py benchmarks/equation_of_state/"
      ]
    },
    {
      "cell_type": "code",
      "execution_count": null,
      "metadata": {
        "id": "NYykl19BWfQI"
      },
      "outputs": [],
      "source": [
        "!taskset -c 0 python run.py benchmarks/isoneutral_mixing/"
      ]
    },
    {
      "cell_type": "code",
      "execution_count": null,
      "metadata": {
        "id": "zf2RaRlPXpM6"
      },
      "outputs": [],
      "source": [
        "!taskset -c 0 python run.py benchmarks/turbulent_kinetic_energy/"
      ]
    },
    {
      "cell_type": "markdown",
      "metadata": {
        "id": "oOIzGKsPP0ui"
      },
      "source": [
        "## TPU\n",
        "\n",
        "Make sure to set accelerator to \"TPU\" before executing this."
      ]
    },
    {
      "cell_type": "code",
      "execution_count": null,
      "metadata": {
        "id": "JHOxWXecn3kx"
      },
      "outputs": [],
      "source": [
        "import jax.tools.colab_tpu\n",
        "jax.tools.colab_tpu.setup_tpu()"
      ]
    },
    {
      "cell_type": "code",
      "execution_count": null,
      "metadata": {
        "id": "9-tQlcfZOzm0"
      },
      "outputs": [],
      "source": [
        "!python run.py benchmarks/equation_of_state -b jax -b numpy --device tpu"
      ]
    },
    {
      "cell_type": "code",
      "execution_count": null,
      "metadata": {
        "id": "rKcTVbiVPXFu"
      },
      "outputs": [],
      "source": [
        "!python run.py benchmarks/isoneutral_mixing -b jax -b numpy --device tpu"
      ]
    },
    {
      "cell_type": "code",
      "execution_count": null,
      "metadata": {
        "id": "gfIlTgZol9OA"
      },
      "outputs": [],
      "source": [
        "!python run.py benchmarks/turbulent_kinetic_energy -b jax -b numpy --device tpu"
      ]
    },
    {
      "cell_type": "markdown",
      "metadata": {
        "id": "RDoapE1YPrpN"
      },
      "source": [
        "## GPU\n",
        "\n",
        "Make sure to set accelerator to \"GPU\" before executing this."
      ]
    },
    {
      "cell_type": "code",
      "execution_count": null,
      "metadata": {
        "id": "b4CQKseuMnzE"
      },
      "outputs": [],
      "source": [
        "# get GPU model\n",
        "!nvidia-smi -L"
      ]
    },
    {
      "cell_type": "code",
      "execution_count": null,
      "metadata": {
        "id": "Azo78zrdo88Y"
      },
      "outputs": [],
      "source": [
        "!for backend in jax tensorflow pytorch cupy; do python run.py benchmarks/equation_of_state/ --device gpu -b $backend -b numpy; done"
      ]
    },
    {
      "cell_type": "code",
      "execution_count": null,
      "metadata": {
        "id": "Ps8zEacsPWQW"
      },
      "outputs": [],
      "source": [
        "!for backend in jax pytorch cupy; do python run.py benchmarks/isoneutral_mixing/ --device gpu -b $backend -b numpy; done"
      ]
    },
    {
      "cell_type": "code",
      "execution_count": null,
      "metadata": {
        "id": "ogXoFxFAd0KI"
      },
      "outputs": [],
      "source": [
        "!for backend in jax pytorch; do python run.py benchmarks/turbulent_kinetic_energy/ --device gpu -b $backend -b numpy; done"
      ]
    }
  ],
  "metadata": {
    "accelerator": "TPU",
    "colab": {
      "collapsed_sections": [],
      "name": "pyhpc-benchmarks-colab.ipynb",
      "provenance": []
    },
    "kernelspec": {
      "display_name": "Python 3",
      "name": "python3"
    }
  },
  "nbformat": 4,
  "nbformat_minor": 0
}
